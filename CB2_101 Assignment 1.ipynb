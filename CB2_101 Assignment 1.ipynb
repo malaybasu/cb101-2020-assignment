{
 "cells": [
  {
   "cell_type": "markdown",
   "metadata": {},
   "source": [
    "# CB2-101 Assignment 1"
   ]
  },
  {
   "cell_type": "markdown",
   "metadata": {},
   "source": [
    "## Problem 1"
   ]
  },
  {
   "cell_type": "code",
   "execution_count": 1,
   "metadata": {
    "scrolled": false
   },
   "outputs": [
    {
     "name": "stdout",
     "output_type": "stream",
     "text": [
      "--2020-11-10 19:35:25--  ftp://ftp.ebi.ac.uk/pub/databases/Pfam/current_release/proteomes/9606.tsv.gz\n",
      "           => ‘9606.tsv.gz.1’\n",
      "Resolving ftp.ebi.ac.uk (ftp.ebi.ac.uk)... 193.62.197.74\n",
      "Connecting to ftp.ebi.ac.uk (ftp.ebi.ac.uk)|193.62.197.74|:21... connected.\n",
      "Logging in as anonymous ... Logged in!\n",
      "==> SYST ... done.    ==> PWD ... done.\n",
      "==> TYPE I ... done.  ==> CWD (1) /pub/databases/Pfam/current_release/proteomes ... done.\n",
      "==> SIZE 9606.tsv.gz ... 2487458\n",
      "==> PASV ... done.    ==> RETR 9606.tsv.gz ... done.\n",
      "Length: 2487458 (2.4M) (unauthoritative)\n",
      "\n",
      "100%[======================================>] 2,487,458   2.44MB/s   in 1.0s   \n",
      "\n",
      "2020-11-10 19:35:27 (2.44 MB/s) - ‘9606.tsv.gz.1’ saved [2487458]\n",
      "\n"
     ]
    }
   ],
   "source": [
    "wget ftp://ftp.ebi.ac.uk/pub/databases/Pfam/current_release/proteomes/9606.tsv.gz"
   ]
  },
  {
   "cell_type": "code",
   "execution_count": 1,
   "metadata": {},
   "outputs": [
    {
     "name": "stdout",
     "output_type": "stream",
     "text": [
      "/home/cb2/Downloads\n"
     ]
    }
   ],
   "source": [
    "pwd"
   ]
  },
  {
   "cell_type": "code",
   "execution_count": 36,
   "metadata": {
    "scrolled": false
   },
   "outputs": [
    {
     "name": "stdout",
     "output_type": "stream",
     "text": [
      "6537\n"
     ]
    }
   ],
   "source": [
    "zcat 9606.tsv.gz | cut -f6 | sort | uniq | wc -l"
   ]
  },
  {
   "cell_type": "markdown",
   "metadata": {},
   "source": [
    "# # Problem 2"
   ]
  },
  {
   "cell_type": "code",
   "execution_count": 21,
   "metadata": {},
   "outputs": [
    {
     "name": "stdout",
     "output_type": "stream",
     "text": [
      "\u001b[0m\u001b[38;5;27mlinux_data\u001b[0m  \u001b[38;5;34mlinux_data.tar.xz\u001b[0m  \u001b[38;5;34mNC_000913.faa\u001b[0m  \u001b[38;5;27mProblem_4\u001b[0m\n"
     ]
    }
   ],
   "source": [
    "ls"
   ]
  },
  {
   "cell_type": "code",
   "execution_count": 22,
   "metadata": {},
   "outputs": [],
   "source": [
    "mkdir Yersinia_take11"
   ]
  },
  {
   "cell_type": "code",
   "execution_count": 34,
   "metadata": {},
   "outputs": [],
   "source": [
    "cd .."
   ]
  },
  {
   "cell_type": "code",
   "execution_count": 35,
   "metadata": {},
   "outputs": [
    {
     "name": "stdout",
     "output_type": "stream",
     "text": [
      "/media/sf_jkfiles/cb2_101/Yersinia_take11\n"
     ]
    }
   ],
   "source": [
    "pwd"
   ]
  },
  {
   "cell_type": "code",
   "execution_count": 36,
   "metadata": {},
   "outputs": [
    {
     "name": "stdout",
     "output_type": "stream",
     "text": [
      "wget: missing URL\n",
      "Usage: wget [OPTION]... [URL]...\n",
      "\n",
      "Try `wget --help' for more options.\n"
     ]
    },
    {
     "ename": "",
     "evalue": "1",
     "output_type": "error",
     "traceback": []
    }
   ],
   "source": [
    "wget -r -A.faa -I /genomes/archive/old_refseq/Bacteria/Yersinia_pestis* \\ftp://ftp.ncbi.nlm.nih.gov/genomes/archive/old_refseq/Bacteria/"
   ]
  },
  {
   "cell_type": "code",
   "execution_count": 39,
   "metadata": {},
   "outputs": [
    {
     "name": "stdout",
     "output_type": "stream",
     "text": [
      "\u001b[0m\u001b[38;5;27mYersinia_pestis_A1122_uid158119\u001b[0m\n",
      "\u001b[38;5;27mYersinia_pestis_Angola_uid58485\u001b[0m\n",
      "\u001b[38;5;27mYersinia_pestis_Antiqua_uid58607\u001b[0m\n",
      "\u001b[38;5;27mYersinia_pestis_biovar_Medievalis_Harbin_35_uid158537\u001b[0m\n",
      "\u001b[38;5;27mYersinia_pestis_biovar_Microtus_91001_uid58037\u001b[0m\n",
      "\u001b[38;5;27mYersinia_pestis_CO92_uid57621\u001b[0m\n",
      "\u001b[38;5;27mYersinia_pestis_D106004_uid158071\u001b[0m\n",
      "\u001b[38;5;27mYersinia_pestis_D182038_uid158073\u001b[0m\n",
      "\u001b[38;5;27mYersinia_pestis_KIM_10_uid57875\u001b[0m\n",
      "\u001b[38;5;27mYersinia_pestis_Nepal516_uid58609\u001b[0m\n",
      "\u001b[38;5;27mYersinia_pestis_Pestoides_F_uid58619\u001b[0m\n",
      "\u001b[38;5;27mYersinia_pestis_Z176003_uid47317\u001b[0m\n"
     ]
    }
   ],
   "source": [
    "ls"
   ]
  },
  {
   "cell_type": "markdown",
   "metadata": {},
   "source": [
    "# # Problem 3"
   ]
  },
  {
   "cell_type": "code",
   "execution_count": null,
   "metadata": {},
   "outputs": [],
   "source": [
    "pwd"
   ]
  },
  {
   "cell_type": "code",
   "execution_count": 40,
   "metadata": {},
   "outputs": [
    {
     "name": "stdout",
     "output_type": "stream",
     "text": [
      "48772\n"
     ]
    }
   ],
   "source": [
    "find -name \"*.faa\" -exec grep \">\" {} + | wc -l"
   ]
  },
  {
   "cell_type": "markdown",
   "metadata": {},
   "source": [
    "# # Problem 4"
   ]
  },
  {
   "cell_type": "code",
   "execution_count": 13,
   "metadata": {},
   "outputs": [],
   "source": [
    "cd ../"
   ]
  },
  {
   "cell_type": "code",
   "execution_count": 14,
   "metadata": {},
   "outputs": [
    {
     "name": "stdout",
     "output_type": "stream",
     "text": [
      "/home/cb2/Downloads\n"
     ]
    }
   ],
   "source": [
    "pwd"
   ]
  },
  {
   "cell_type": "code",
   "execution_count": 3,
   "metadata": {},
   "outputs": [],
   "source": [
    "cd ./Ass1Prob4"
   ]
  },
  {
   "cell_type": "code",
   "execution_count": 4,
   "metadata": {},
   "outputs": [
    {
     "name": "stdout",
     "output_type": "stream",
     "text": [
      "/home/cb2/Downloads/Ass1Prob4\n"
     ]
    }
   ],
   "source": [
    "pwd"
   ]
  },
  {
   "cell_type": "code",
   "execution_count": 5,
   "metadata": {},
   "outputs": [
    {
     "name": "stdout",
     "output_type": "stream",
     "text": [
      "--2020-11-18 09:50:53--  ftp://ftp.ncbi.nlm.nih.gov/genomes/archive/old_refseq/Bacteria/Escherichia_coli_K_12_substr__MG1655_uid57779/NC_000913.faa\n",
      "           => ‘NC_000913.faa’\n",
      "Resolving ftp.ncbi.nlm.nih.gov (ftp.ncbi.nlm.nih.gov)... 130.14.250.7, 2607:f220:41e:250::10, 2607:f220:41e:250::13, ...\n",
      "Connecting to ftp.ncbi.nlm.nih.gov (ftp.ncbi.nlm.nih.gov)|130.14.250.7|:21... connected.\n",
      "Logging in as anonymous ... Logged in!\n",
      "==> SYST ... done.    ==> PWD ... done.\n",
      "==> TYPE I ... done.  ==> CWD (1) /genomes/archive/old_refseq/Bacteria/Escherichia_coli_K_12_substr__MG1655_uid57779 ... done.\n",
      "==> SIZE NC_000913.faa ... 1822571\n",
      "==> PASV ... done.    ==> RETR NC_000913.faa ... done.\n",
      "Length: 1822571 (1.7M) (unauthoritative)\n",
      "\n",
      "100%[======================================>] 1,822,571   6.88MB/s   in 0.3s   \n",
      "\n",
      "2020-11-18 09:50:53 (6.88 MB/s) - ‘NC_000913.faa’ saved [1822571]\n",
      "\n"
     ]
    }
   ],
   "source": [
    "wget ftp://ftp.ncbi.nlm.nih.gov/genomes/archive/old_refseq/Bacteria/Escherichia_coli_K_12_substr__MG1655_uid57779/NC_000913.faa"
   ]
  },
  {
   "cell_type": "code",
   "execution_count": 8,
   "metadata": {},
   "outputs": [
    {
     "name": "stdout",
     "output_type": "stream",
     "text": [
      "4140\n"
     ]
    }
   ],
   "source": [
    "# total number of proteins\n",
    "cat NC_000913.faa | grep \"^>\" | wc -l"
   ]
  },
  {
   "cell_type": "code",
   "execution_count": 9,
   "metadata": {},
   "outputs": [
    {
     "name": "stdout",
     "output_type": "stream",
     "text": [
      "1311795\n"
     ]
    }
   ],
   "source": [
    "# total number of aa\n",
    "cat NC_000913.faa | grep -v \"^>\" | tr -d \"\\n\" | wc -c"
   ]
  },
  {
   "cell_type": "code",
   "execution_count": 10,
   "metadata": {},
   "outputs": [
    {
     "name": "stdout",
     "output_type": "stream",
     "text": [
      "316\n"
     ]
    }
   ],
   "source": [
    "# Divide number of aa by number of proteins\n",
    "echo $(cat NC_000913.faa | grep -v \"^>\" | tr -d \"\\n\" | wc -c)/$(cat NC_000913.faa | grep \"^>\" | wc -l) | bc"
   ]
  },
  {
   "cell_type": "code",
   "execution_count": 11,
   "metadata": {},
   "outputs": [
    {
     "name": "stdout",
     "output_type": "stream",
     "text": [
      "316\n"
     ]
    }
   ],
   "source": [
    "#Print average length of protein regardless of fasta file name\n",
    "echo $(cat *.faa | grep -v \"^>\" | tr -d \"\\n\" | wc -c)/$(cat *.faa | grep \"^>\" | wc -l) | bc"
   ]
  }
 ],
 "metadata": {
  "kernelspec": {
   "display_name": "Bash",
   "language": "bash",
   "name": "bash"
  },
  "language_info": {
   "codemirror_mode": "shell",
   "file_extension": ".sh",
   "mimetype": "text/x-sh",
   "name": "bash"
  }
 },
 "nbformat": 4,
 "nbformat_minor": 2
}
